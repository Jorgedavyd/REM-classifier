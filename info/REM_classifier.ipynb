{
 "cells": [
  {
   "attachments": {},
   "cell_type": "markdown",
   "metadata": {},
   "source": [
    "# REM classifier\n",
    "## Objetivo:\n",
    "- Básicamente diferenciar entre REM y no REM para distintas aplicaciones.\n",
    "\n",
    "## Métodos:\n",
    "En base a [esta investigación](https://academic.oup.com/sleep/article/42/12/zsz180/5549536) encontramos que las mejores arquitecturas para detectar REM son las redes neuronales, pero como carece de diversidad estructural el trabajo, creemos que pueden existir mejores resultados variando su estructura y haciendo ingeniería de datos sobre las tres variables estudiadas:\n",
    "\n",
    "- **Heart rate**\n",
    "\n",
    "- **Clock**\n",
    "\n",
    "- **Motion**\n",
    "\n",
    "\n",
    "Todos conjuntos de datos derivados de el dispositivo Apple Watch\n",
    "\n",
    "## Investigación\n",
    "Según [la investigación](https://academic.oup.com/sleep/article/42/12/zsz180/5549536) citada, se han estudiado distintos métodos de aprendizaje automático supervisado con las siguientes arquitecturas:\n",
    "\n",
    "- **KNNs**\n",
    "\n",
    "- **MPL**\n",
    "\n",
    "- **Log. reg.**\n",
    "\n",
    "- **Random Forest**\n",
    "\n",
    "\n",
    "Siendo los mejores resultados del MLP(Multilayer perceptron), que son básicamente redes neuronales con pocas capas. Como se ve en la figura 1.\n",
    "\n",
    "<img src=\"image.png\">\n",
    "\n",
    "**Figura 1**. Resultados de la investigación.\n",
    "\n",
    "\n",
    "Es así que buscaremos mejorar este mejor resultado mediante la ingeniería de datos y cambiando estructuralemente el modelo original\n",
    "\n",
    "## Framework\n",
    "- Para el entrenamiento de estos nuevos modelos utilizaremos **Pytorch**, uno de los frameworks más utilizados en investigación por su efectividad, actualmente más ampliamente utilizado que tensorflow y keras en investigación.\n",
    "- Para el desarrollo de la API que envíe los datos al servidor donde se haga la inferencia se utilizará **Swift**.\n",
    "- Para poner en producción el modelo utilizaremos **AWS**(Amazon Web Services), donde están todas las herramientas necesarias para el despliegue.\n",
    "\n"
   ]
  }
 ],
 "metadata": {
  "language_info": {
   "name": "python"
  },
  "orig_nbformat": 4
 },
 "nbformat": 4,
 "nbformat_minor": 2
}
