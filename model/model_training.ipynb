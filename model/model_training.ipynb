{
 "cells": [
  {
   "attachments": {},
   "cell_type": "markdown",
   "metadata": {},
   "source": [
    "# Model training\n",
    "Training the actual model that we'll deploy after getting its architecture from the previous step (nn_exploration)."
   ]
  },
  {
   "cell_type": "code",
   "execution_count": 1,
   "metadata": {},
   "outputs": [],
   "source": [
    "from utils import *"
   ]
  },
  {
   "cell_type": "code",
   "execution_count": 2,
   "metadata": {},
   "outputs": [],
   "source": [
    "import pandas as pd\n",
    "\n",
    "# Data importation\n",
    "\n",
    "dataframe = pd.read_csv('data/data.csv')\n",
    "\n",
    "#Getting the columns\n",
    "columns = dataframe.columns.values\n",
    "\n",
    "#Cleaning the dataframe\n",
    "df = dataframe.drop(columns = columns[0:2])\n"
   ]
  },
  {
   "cell_type": "code",
   "execution_count": 3,
   "metadata": {},
   "outputs": [],
   "source": [
    "from torch.utils.data.dataloader import DataLoader\n",
    "from torch.utils.data import random_split, TensorDataset\n",
    "\n",
    "#Defining input features and target feature\n",
    "input_cols = columns[2:-1]\n",
    "targets = columns[-1]\n",
    "\n",
    "#Getting the tensors\n",
    "inputs, targets = dataframe_to_torch(df,input_cols, targets)\n",
    "\n",
    "#Creating the dataset\n",
    "dataset = TensorDataset(inputs, targets)\n",
    "\n",
    "#Test:15% training: 85%\n",
    "\n",
    "test_size = round(0.15*len(dataset))\n",
    "\n",
    "\n",
    "train_ds, test_ds = random_split(dataset , [len(dataset) - test_size, test_size])\n",
    "\n",
    "batch_size = 128  #Change based on GPU capacity\n",
    "\n",
    "train_loader = DataLoader(train_ds, batch_size, shuffle=True, num_workers=4, pin_memory=True)\n",
    "test_loader = DataLoader(test_ds, batch_size*2, num_workers=4, pin_memory=True)"
   ]
  },
  {
   "cell_type": "code",
   "execution_count": 4,
   "metadata": {},
   "outputs": [],
   "source": [
    "# Input and ouput values of the hidden layers (input the values from the cross-validation step)\n",
    "architecture = (28,60,30)\n",
    "\n",
    "# Model definition \n",
    "model = DeepNeuralNetwork(4, *architecture)"
   ]
  },
  {
   "cell_type": "code",
   "execution_count": 5,
   "metadata": {},
   "outputs": [
    {
     "name": "stdout",
     "output_type": "stream",
     "text": [
      "Epoch [0], last_lr: 0.00002, train_loss: 0.7066, val_loss: 0.7016, val_acc: 0.4346\n",
      "Epoch [1], last_lr: 0.00004, train_loss: 0.6915, val_loss: 0.6771, val_acc: 0.7761\n",
      "Epoch [2], last_lr: 0.00008, train_loss: 0.6485, val_loss: 0.6118, val_acc: 0.7761\n",
      "Epoch [3], last_lr: 0.00010, train_loss: 0.5568, val_loss: 0.5137, val_acc: 0.7761\n",
      "Epoch [4], last_lr: 0.00010, train_loss: 0.4828, val_loss: 0.4778, val_acc: 0.7761\n",
      "Epoch [5], last_lr: 0.00010, train_loss: 0.4582, val_loss: 0.4637, val_acc: 0.7761\n",
      "Epoch [6], last_lr: 0.00009, train_loss: 0.4471, val_loss: 0.4559, val_acc: 0.7761\n",
      "Epoch [7], last_lr: 0.00008, train_loss: 0.4404, val_loss: 0.4513, val_acc: 0.7761\n",
      "Epoch [8], last_lr: 0.00006, train_loss: 0.4374, val_loss: 0.4480, val_acc: 0.7803\n",
      "Epoch [9], last_lr: 0.00005, train_loss: 0.4344, val_loss: 0.4459, val_acc: 0.7858\n",
      "Epoch [10], last_lr: 0.00003, train_loss: 0.4327, val_loss: 0.4446, val_acc: 0.7853\n",
      "Epoch [11], last_lr: 0.00002, train_loss: 0.4307, val_loss: 0.4438, val_acc: 0.7850\n",
      "Epoch [12], last_lr: 0.00001, train_loss: 0.4317, val_loss: 0.4434, val_acc: 0.7850\n",
      "Epoch [13], last_lr: 0.00000, train_loss: 0.4302, val_loss: 0.4432, val_acc: 0.7845\n",
      "Epoch [14], last_lr: 0.00000, train_loss: 0.4304, val_loss: 0.4432, val_acc: 0.7845\n"
     ]
    }
   ],
   "source": [
    "#Hyperparameters\n",
    "epochs = 15\n",
    "max_lr = 0.0001\n",
    "grad_clip = 0.007\n",
    "weight_decay = 1e-5\n",
    "opt_func = torch.optim.Adam\n",
    "\n",
    "#Training\n",
    "history = []\n",
    "\n",
    "history += fit(epochs, max_lr, model, train_loader, test_loader, weight_decay, grad_clip, opt_func)"
   ]
  },
  {
   "cell_type": "code",
   "execution_count": null,
   "metadata": {},
   "outputs": [],
   "source": [
    "plot_losses(history)"
   ]
  },
  {
   "cell_type": "code",
   "execution_count": null,
   "metadata": {},
   "outputs": [],
   "source": [
    "#This step creates a readable model for a variety of programing languages.\n",
    "model_scripted = torch.jit.script(model) # Export to TorchScript\n",
    "model_scripted.save('model.pt') # Save\n",
    "#ONNX export\n",
    "dummy_input = torch.randn() #cambiar luego\n",
    "torch.onnx.export(model, dummy_input, 'model.onnx', verbose=True)"
   ]
  }
 ],
 "metadata": {
  "kernelspec": {
   "display_name": "Python 3",
   "language": "python",
   "name": "python3"
  },
  "language_info": {
   "codemirror_mode": {
    "name": "ipython",
    "version": 3
   },
   "file_extension": ".py",
   "mimetype": "text/x-python",
   "name": "python",
   "nbconvert_exporter": "python",
   "pygments_lexer": "ipython3",
   "version": "3.8.10"
  },
  "orig_nbformat": 4
 },
 "nbformat": 4,
 "nbformat_minor": 2
}
