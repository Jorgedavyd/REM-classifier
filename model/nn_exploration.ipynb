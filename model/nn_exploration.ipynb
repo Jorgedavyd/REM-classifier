{
 "cells": [
  {
   "attachments": {},
   "cell_type": "markdown",
   "metadata": {},
   "source": [
    "# Exploration\n",
    "This notebook is for tuning hyperparameters and finding the most accurate architecture for this aplication."
   ]
  },
  {
   "cell_type": "code",
   "execution_count": 1,
   "metadata": {},
   "outputs": [],
   "source": [
    "from utils import *\n",
    "from data.data_utils import *"
   ]
  },
  {
   "cell_type": "code",
   "execution_count": 15,
   "metadata": {},
   "outputs": [
    {
     "ename": "AttributeError",
     "evalue": "'list' object has no attribute 'column'",
     "output_type": "error",
     "traceback": [
      "\u001b[1;31m---------------------------------------------------------------------------\u001b[0m",
      "\u001b[1;31mAttributeError\u001b[0m                            Traceback (most recent call last)",
      "Cell \u001b[1;32mIn[15], line 7\u001b[0m\n\u001b[0;32m      3\u001b[0m \u001b[39m# Data importation\u001b[39;00m\n\u001b[0;32m      5\u001b[0m dataframe \u001b[39m=\u001b[39m get_individual()\n\u001b[1;32m----> 7\u001b[0m dataframe\u001b[39m.\u001b[39;49mcolumn\u001b[39m.\u001b[39mvalues\n",
      "\u001b[1;31mAttributeError\u001b[0m: 'list' object has no attribute 'column'"
     ]
    }
   ],
   "source": [
    "import pandas as pd\n",
    "\n",
    "# Data importation\n",
    "\n",
    "dataframe = get_individual()\n",
    "\n"
   ]
  },
  {
   "cell_type": "code",
   "execution_count": null,
   "metadata": {},
   "outputs": [],
   "source": [
    "from torch.utils.data.dataloader import DataLoader\n",
    "from torch.utils.data import random_split, TensorDataset\n",
    "\n",
    "#Defining input features and target feature\n",
    "\n",
    "input_cols = columns[[2,3,5]]\n",
    "targets = columns[-1]\n",
    "\n",
    "#Getting the tensors\n",
    "inputs, targets = dataframe_to_torch(df,input_cols, targets)\n",
    "\n",
    "#Creating the dataset\n",
    "dataset = TensorDataset(inputs, targets)\n",
    "\n",
    "#Cross-validation set:20% training set: 80%\n",
    "\n",
    "val_size = round(0.2*len(dataset))\n",
    "\n",
    "train_ds, val_ds = random_split(dataset , [len(dataset) - val_size, val_size])\n",
    "\n",
    "batch_size = 128  # Change based in dataset size and  GPU capacity (also known as a hyperparameter)\n",
    "\n",
    "train_loader = DataLoader(train_ds, batch_size, shuffle=True, num_workers=4, pin_memory=True)\n",
    "val_loader = DataLoader(val_ds, batch_size*2, num_workers=4, pin_memory=True)"
   ]
  },
  {
   "cell_type": "code",
   "execution_count": null,
   "metadata": {},
   "outputs": [],
   "source": [
    "# Input and ouput values of the hidden layers\n",
    "architecture = (256, 128, 64, 32)\n",
    "\n",
    "# Model definition\n",
    "model = LSTMforREM(3, *architecture)"
   ]
  },
  {
   "cell_type": "code",
   "execution_count": null,
   "metadata": {},
   "outputs": [],
   "source": [
    "#Model architecture\n",
    "print(model)"
   ]
  },
  {
   "cell_type": "code",
   "execution_count": null,
   "metadata": {},
   "outputs": [],
   "source": [
    "#Hyperparameters\n",
    "epochs = 10\n",
    "max_lr = 0.0007\n",
    "grad_clip = 0.007\n",
    "weight_decay = 1e-5\n",
    "opt_func = torch.optim.Adam\n",
    "\n",
    "#Training\n",
    "history = []\n",
    "\n",
    "history += fit_one_cycle(epochs, max_lr, model, train_loader, val_loader, weight_decay, grad_clip, opt_func)"
   ]
  },
  {
   "cell_type": "code",
   "execution_count": null,
   "metadata": {},
   "outputs": [],
   "source": [
    "plot_losses(history)"
   ]
  }
 ],
 "metadata": {
  "kernelspec": {
   "display_name": "Python 3",
   "language": "python",
   "name": "python3"
  },
  "language_info": {
   "codemirror_mode": {
    "name": "ipython",
    "version": 3
   },
   "file_extension": ".py",
   "mimetype": "text/x-python",
   "name": "python",
   "nbconvert_exporter": "python",
   "pygments_lexer": "ipython3",
   "version": "3.10.11"
  },
  "orig_nbformat": 4
 },
 "nbformat": 4,
 "nbformat_minor": 2
}
